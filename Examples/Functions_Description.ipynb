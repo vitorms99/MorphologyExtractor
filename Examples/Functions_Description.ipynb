{
 "cells": [
  {
   "cell_type": "code",
   "execution_count": null,
   "id": "9369a613",
   "metadata": {
    "ExecuteTime": {
     "end_time": "2025-01-29T17:03:45.888080Z",
     "start_time": "2025-01-29T17:03:45.565681Z"
    }
   },
   "outputs": [],
   "source": [
    "import pandas as pd\n",
    "import numpy as np\n",
    "import matplotlib.pyplot as plt\n",
    "from astropy.io import fits\n",
    "import os\n",
    "import subprocess"
   ]
  },
  {
   "cell_type": "markdown",
   "id": "8c7feeb6",
   "metadata": {},
   "source": [
    "# Load galaxy image"
   ]
  },
  {
   "cell_type": "code",
   "execution_count": null,
   "id": "cf697e9f",
   "metadata": {
    "ExecuteTime": {
     "end_time": "2025-01-29T17:03:47.205213Z",
     "start_time": "2025-01-29T17:03:46.679927Z"
    }
   },
   "outputs": [],
   "source": [
    "from mex.Utils_module import open_fits_image\n",
    "galaxy_image, header = open_fits_image('example_galaxy.fits')\n",
    "        "
   ]
  },
  {
   "cell_type": "code",
   "execution_count": null,
   "id": "d66d5ee3",
   "metadata": {
    "ExecuteTime": {
     "end_time": "2025-01-29T17:03:47.824602Z",
     "start_time": "2025-01-29T17:03:47.564316Z"
    }
   },
   "outputs": [],
   "source": [
    "plt.figure(figsize = (6,6), dpi = 200)\n",
    "plt.subplot(111)\n",
    "plt.title(\"SDSS 588848901526257813\", fontsize = 22)\n",
    "m, s = np.nanmedian(galaxy_image), np.nanstd(galaxy_image)\n",
    "plt.imshow(galaxy_image, origin = 'lower', vmin = m, vmax = m+(3*s), cmap = 'gray_r')\n",
    "plt.xticks(fontsize = 16)\n",
    "plt.yticks(fontsize = 16)\n",
    "plt.tick_params(direction = 'in', size = 7, left = True, right = True, bottom = True, top = True, \n",
    "                color = 'k', width = 1)\n",
    "#plt.savefig('output_images/Example_galaxy.pdf', bbox_inches = 'tight')"
   ]
  },
  {
   "cell_type": "markdown",
   "id": "b2db539f",
   "metadata": {},
   "source": [
    "# Estimate and subtract background"
   ]
  },
  {
   "cell_type": "markdown",
   "id": "38a0b4e3",
   "metadata": {},
   "source": [
    "## Start BackgroundEstimator class\n",
    "\n",
    "This function receives only an identifier (galaxy_name) and the galaxy image. All the function built in this class returns 4 objects, respectively: median and standard deviation of the background, the bkg_image, and the image after subtracting the background estimated.   "
   ]
  },
  {
   "cell_type": "code",
   "execution_count": null,
   "id": "f19bcfad",
   "metadata": {
    "ExecuteTime": {
     "end_time": "2025-01-29T17:03:49.033920Z",
     "start_time": "2025-01-29T17:03:49.032024Z"
    }
   },
   "outputs": [],
   "source": [
    "from mex.Background_module import BackgroundEstimator\n",
    "galaxy_name = '588848901526257813'\n",
    "bkg_estimator = BackgroundEstimator(galaxy_name, galaxy_image)\n",
    "        "
   ]
  },
  {
   "cell_type": "markdown",
   "id": "aa6ba239",
   "metadata": {},
   "source": [
    "## Flat background\n",
    "In this option, you can provide the especific value and standard deviation to subtract from the galaxy image. For instance, in the case of SDSS the background is somewhat flat, with median value ~1100 counts, and standard deviation ~6."
   ]
  },
  {
   "cell_type": "code",
   "execution_count": null,
   "id": "d7509b5c",
   "metadata": {
    "ExecuteTime": {
     "end_time": "2025-01-29T17:03:49.846976Z",
     "start_time": "2025-01-29T17:03:49.844820Z"
    }
   },
   "outputs": [],
   "source": [
    "bkg_median_flat, bkg_std_flat, bkg_image_flat, galaxy_nobkg_flat = bkg_estimator.flat_background(value = 1100, std = 6)"
   ]
  },
  {
   "cell_type": "markdown",
   "id": "41426122",
   "metadata": {
    "ExecuteTime": {
     "end_time": "2025-01-17T13:59:18.704329Z",
     "start_time": "2025-01-17T13:59:18.696198Z"
    }
   },
   "source": [
    "## Frame background\n",
    "This option sets a frame around image edges to select pixels and perform a statistic analysis of the background. The image_fraction variable defines the percentage relative to the image size to use as frame. By setting sigma_clipping = True, it is also possible to perform a sigma clipping to avoid contamination from secondary objects within the frame selected pixels. The clipping_threshold variable defines the threshold to discard pixels. For example, clipping_threshold = 3 (with sigma_clipping = True) will discard pixels above median+3sigma before computing background median and standard deviation in selected pixels. "
   ]
  },
  {
   "cell_type": "code",
   "execution_count": null,
   "id": "b807812f",
   "metadata": {
    "ExecuteTime": {
     "end_time": "2025-01-29T17:03:50.628082Z",
     "start_time": "2025-01-29T17:03:50.614453Z"
    }
   },
   "outputs": [],
   "source": [
    "bkg_median_frame, bkg_std_frame, bkg_image_frame, galaxy_nobkg_frame = bkg_estimator.frame_background(image_fraction = 0.1, sigma_clipping = True, clipping_threshold = 3)"
   ]
  },
  {
   "cell_type": "markdown",
   "id": "162823e9",
   "metadata": {},
   "source": [
    "## Source Extractor in Python (SEP)\n",
    "The SEP package provides a similar implementation of the famous Source EXtractor (SExtractor) code in python. This method is simply a wrapper of the sep.background function. Besides the usual bw, bh, fw and fh, this function can receive additional keywords, as described in https://sep.readthedocs.io/en/v1.0.x/api/sep.Background.html."
   ]
  },
  {
   "cell_type": "code",
   "execution_count": null,
   "id": "efe1edf3",
   "metadata": {
    "ExecuteTime": {
     "end_time": "2025-01-29T17:03:51.370835Z",
     "start_time": "2025-01-29T17:03:51.367838Z"
    }
   },
   "outputs": [],
   "source": [
    "bkg_median_sep, bkg_std_sep, bkg_image_sep, galaxy_nobkg_sep = bkg_estimator.sep_background(bw = 100, bh = 100, fw = 3, fh = 3)"
   ]
  },
  {
   "cell_type": "markdown",
   "id": "31547f65",
   "metadata": {},
   "source": [
    "## Load from file\n",
    "If you already have the background fits image (from a SExtractor run, for instance), it is possible to use it as input providing the right path and file names. Just to exemplify all possible uses, I define below some dummy variables. If bkg_file is not provided, it assumes that the bkg file name follow the structure: {bkg_image_prefix}galaxy_name{bkg_image_sufix}.fits. Note that I also assume that it is a fits image."
   ]
  },
  {
   "cell_type": "code",
   "execution_count": null,
   "id": "2c96f3f0",
   "metadata": {
    "ExecuteTime": {
     "end_time": "2025-01-29T17:03:52.128159Z",
     "start_time": "2025-01-29T17:03:52.124361Z"
    }
   },
   "outputs": [],
   "source": [
    "bkg_file = \"background.fits\"\n",
    "bkg_image_path = \"./\"\n",
    "bkg_image_prefix = \"\"\n",
    "bkg_image_sufix = \"\"\n",
    "bkg_image_HDU = 0\n",
    "bkg_median_load, bkg_std_load, bkg_image_load, galaxy_nobkg_load = bkg_estimator.load_background(bkg_file, bkg_image_path, bkg_image_prefix, bkg_image_sufix, bkg_image_HDU)"
   ]
  },
  {
   "cell_type": "markdown",
   "id": "74362c5a",
   "metadata": {},
   "source": [
    "## Plot comparisons\n",
    "\n",
    "For obvious reasos, I will not include the plot for the flat estimate."
   ]
  },
  {
   "cell_type": "code",
   "execution_count": null,
   "id": "9f5a5a51",
   "metadata": {
    "ExecuteTime": {
     "end_time": "2025-01-29T17:04:04.793691Z",
     "start_time": "2025-01-29T17:04:04.143964Z"
    }
   },
   "outputs": [],
   "source": [
    "plt.figure(figsize = (12,12), dpi = 200)\n",
    "\n",
    "\n",
    "plt.subplot(2,2,1)\n",
    "plt.title(\"Original Image\", fontsize = 22)\n",
    "m, s = np.nanmedian(galaxy_image), np.nanstd(galaxy_image)\n",
    "plt.imshow(galaxy_image, origin = 'lower', vmin = m, vmax = m+(3*s), cmap = 'gray_r')\n",
    "plt.xticks(fontsize = 16)\n",
    "plt.yticks(fontsize = 16)\n",
    "plt.tick_params(direction = 'in', size = 7, left = True, right = True, bottom = True, top = True, \n",
    "                color = 'k', width = 1)\n",
    "\n",
    "plt.subplot(2,2,2)\n",
    "plt.title(\"Frame Estimate\", fontsize = 22)\n",
    "m,  s = np.nanmedian(bkg_image_frame), np.nanstd(bkg_image_frame)\n",
    "plt.imshow(bkg_image_frame, origin = 'lower', cmap = 'gray_r', vmin = m, vmax = m+(3*s))\n",
    "plt.tick_params(direction = 'in', size = 7, left = True, right = True, bottom = True, top = True, \n",
    "                color = 'k', width = 1)\n",
    "plt.xticks(fontsize = 16)\n",
    "plt.yticks(fontsize = 16)\n",
    "\n",
    "plt.subplot(2,2,3)\n",
    "plt.title(\"SEP Estimate\", fontsize = 22)\n",
    "m,  s = np.nanmedian(bkg_image_sep), np.nanstd(bkg_image_sep)\n",
    "plt.imshow(bkg_image_sep, origin = 'lower', cmap = 'gray_r', vmin = m, vmax = m+(3*s))\n",
    "plt.tick_params(direction = 'in', size = 7, left = True, right = True, bottom = True, top = True, \n",
    "                color = 'k', width = 1)\n",
    "plt.xticks(fontsize = 16)\n",
    "plt.yticks(fontsize = 16);\n",
    "\n",
    "plt.subplot(2,2,4)\n",
    "plt.title(\"Load (SExtractor) Estimate\", fontsize = 22)\n",
    "m,  s = np.nanmedian(bkg_image_load), np.nanstd(bkg_image_load)\n",
    "plt.imshow(bkg_image_load, origin = 'lower', cmap = 'gray_r', vmin = m, vmax = m+(3*s))\n",
    "plt.xticks(fontsize = 16)\n",
    "plt.yticks(fontsize = 16)\n",
    "plt.tick_params(direction = 'in', size = 7, left = True, right = True, bottom = True, top = True, \n",
    "                 color = 'k', width = 1)\n",
    "#plt.savefig('output_images/bkg_comparison.pdf', bbox_inches = 'tight')"
   ]
  },
  {
   "cell_type": "markdown",
   "id": "51a0946a",
   "metadata": {},
   "source": [
    "# Detect Objects in the Image\n",
    "There are two main ways to detect objects within this package (at least, for now). First is the commonly used SExtractor. Second is using the SExtractor python alias, SEP. Regarding processing time, the second is faster, due to being already python implemented and not involving reading, write, os operations. Therefore, if you feel that SEP is doing a good job, would recommend using it."
   ]
  },
  {
   "cell_type": "markdown",
   "id": "fda8b381",
   "metadata": {},
   "source": [
    "## Import Detector Class\n",
    "\n",
    "Just like the background estimator class, the detector receives the object identification (galaxy_name) and the image. In the following example I will be very permissive with the detection threshold, in order to guarantee that no galaxy pixel is lost in the segmentation map, which can be relevant to the final segmentation map"
   ]
  },
  {
   "cell_type": "code",
   "execution_count": null,
   "id": "0929e091",
   "metadata": {
    "ExecuteTime": {
     "end_time": "2025-01-29T17:04:06.014016Z",
     "start_time": "2025-01-29T17:04:06.011825Z"
    }
   },
   "outputs": [],
   "source": [
    "from mex.Detection_module import ObjectDetector\n",
    "        "
   ]
  },
  {
   "cell_type": "markdown",
   "id": "33146f5b",
   "metadata": {},
   "source": [
    "## SExtractor detection\n",
    "Running SExtractor for a large dataset can be though sometimes. I included a simple, automated SExtractor runner in the code, such that it can be easily called via Python. Also, it can be included in for loops effortlessly. A caveat, however, is that I'm assuming that all sextractor-related files (.sex, .param, .conv, etc...) are within the same folder (sex_folder) as the default file (default.sex). If needed to use files from different folders, please change directly on the default.sex file. Furthermore, to iteratively provide sextractor keywords, I included the \"sex_keywords\" variable, which must a be dictionary with the variable name (exactly like in the SExtractor default.sex file) and the desired value. See below for an example of sex_keywords and function call. Since I also include the \"SEP\" option, I normalize the output catalog to have similar columns in both cases (x, y, a, b, theta, etc...).  "
   ]
  },
  {
   "cell_type": "code",
   "execution_count": null,
   "id": "cbd90fe7",
   "metadata": {
    "ExecuteTime": {
     "end_time": "2025-01-29T17:04:07.215301Z",
     "start_time": "2025-01-29T17:04:07.182687Z"
    }
   },
   "outputs": [],
   "source": [
    "detector = ObjectDetector(galaxy_name, galaxy_image) ## Here I'm using the non-background subtraction just to highlight that the Sextractor itself makes a bkg removal (but it can be turned off in default.sex)\n",
    "\n",
    "sex_keywords = {\"DETECT_MINAREA\": 10,\n",
    "                \"DETECT_THRESH\": 1,\n",
    "                \"VERBOSE_TYPE\": \"QUIET\"}\n",
    "sex_catalog, sex_segmentation = detector.sex_detector(sex_folder = './sextractor_files/', \n",
    "                                                      sex_default = 'default.sex', \n",
    "                                                      sex_keywords = sex_keywords, \n",
    "                                                      sex_output_folder = './', clean_up = True)"
   ]
  },
  {
   "cell_type": "markdown",
   "id": "054eef4b",
   "metadata": {},
   "source": [
    "## SEP detection\n",
    "\n",
    "Similar to background estimation, I included a built in function to detect objects using SEP.extract function. More details available in https://sep.readthedocs.io/en/v1.0.x/api/sep.extract.html. Also, the sep.extract expects an image with background already subtracted (which is not the case for SExtractor). If sub_bkg = False, it means that the image provided in \"ObjectDetector\" is already background subtracted. If set to True, it will subtract the background within the function, i.e. the image provided is not background subtracted. By definition (hard coded) it will also generate a segmentation map, similar to SExtractor."
   ]
  },
  {
   "cell_type": "code",
   "execution_count": null,
   "id": "8d3c9f94",
   "metadata": {
    "ExecuteTime": {
     "end_time": "2025-01-29T17:04:08.819375Z",
     "start_time": "2025-01-29T17:04:08.814233Z"
    }
   },
   "outputs": [],
   "source": [
    "detector = ObjectDetector(galaxy_name, galaxy_nobkg_sep) # here I'm using sep bkg subtracted image for consistency\n",
    "sep_catalog, sep_segmentation = detector.sep_detector(thresh = 1, minarea = 10, deblend_nthresh = 32, \n",
    "                                                      deblend_cont = 0.005, filter_type = 'matched',\n",
    "                                                      bkg_std = bkg_std_frame, sub_bkg = False)"
   ]
  },
  {
   "cell_type": "markdown",
   "id": "5bb76ca3",
   "metadata": {},
   "source": [
    "## Results comparison\n",
    "Below I show a comparison between detected object and segmentation map for sextractor and SEP."
   ]
  },
  {
   "cell_type": "code",
   "execution_count": null,
   "id": "21a52414",
   "metadata": {
    "ExecuteTime": {
     "end_time": "2025-01-29T17:04:10.946107Z",
     "start_time": "2025-01-29T17:04:10.241340Z"
    }
   },
   "outputs": [],
   "source": [
    "from matplotlib.patches import Ellipse\n",
    "from matplotlib.lines import Line2D\n",
    "fig = plt.figure(figsize = (12,12), dpi = 200)\n",
    "\n",
    "plt.suptitle(\"SExtractor detector                          SEP detector\", fontsize = 22, y = 0.92)\n",
    "\n",
    "ax = plt.subplot(2,2,1)\n",
    "#plt.title('objects properties', fontsize = 22)\n",
    "m, s = np.nanmedian(galaxy_nobkg_frame), np.nanstd(galaxy_nobkg_frame)\n",
    "plt.imshow(galaxy_nobkg_frame, origin = 'lower', vmin = m, vmax = m+(3*s), cmap = 'gray_r')\n",
    "for i in range(len(sex_catalog)):\n",
    "    e = Ellipse(xy=(sex_catalog['x'][i], sex_catalog['y'][i]),\n",
    "                width=6*sex_catalog['a'][i],\n",
    "                height=6*sex_catalog['b'][i],\n",
    "                angle=sex_catalog['theta'][i] * 180. / np.pi)\n",
    "    e.set_facecolor('none')\n",
    "    e.set_edgecolor('red')\n",
    "    ax.add_artist(e)\n",
    "\n",
    "\n",
    "\n",
    "plt.xticks(fontsize = 16)\n",
    "plt.yticks(fontsize = 16)\n",
    "plt.tick_params(direction = 'in', size = 7, left = True, right = True, bottom = True, top = True, \n",
    "                color = 'k', width = 1)\n",
    "\n",
    "\n",
    "ax = plt.subplot(2,2,2)\n",
    "m, s = np.nanmedian(galaxy_nobkg_frame), np.nanstd(galaxy_nobkg_frame)\n",
    "plt.imshow(galaxy_nobkg_frame, origin = 'lower', vmin = m, vmax = m+(3*s), cmap = 'gray_r')\n",
    "for i in range(len(sep_catalog)):\n",
    "    e = Ellipse(xy=(sep_catalog['x'][i], sep_catalog['y'][i]),\n",
    "                width=6*sep_catalog['a'][i],\n",
    "                height=6*sep_catalog['b'][i],\n",
    "                angle=sep_catalog['theta'][i] * 180. / np.pi)\n",
    "    e.set_facecolor('none')\n",
    "    e.set_edgecolor('red')\n",
    "    ax.add_artist(e)\n",
    "\n",
    "\n",
    "\n",
    "plt.xticks(fontsize = 16)\n",
    "plt.yticks(fontsize = 16)\n",
    "plt.tick_params(direction = 'in', size = 7, left = True, right = True, bottom = True, top = True, \n",
    "                color = 'k', width = 1)\n",
    "\n",
    "\n",
    "plt.subplot(2,2,3)\n",
    "plt.imshow(sex_segmentation, origin = 'lower', cmap = 'viridis')\n",
    "plt.xticks(fontsize = 16)\n",
    "plt.yticks(fontsize = 16)\n",
    "plt.tick_params(direction = 'in', size = 7, left = True, right = True, bottom = True, top = True, \n",
    "                color = 'k', width = 1)\n",
    "\n",
    "plt.subplot(2,2,4)\n",
    "plt.imshow(sep_segmentation, origin = 'lower', cmap = 'viridis')\n",
    "plt.xticks(fontsize = 16)\n",
    "plt.yticks(fontsize = 16)\n",
    "plt.tick_params(direction = 'in', size = 7, left = True, right = True, bottom = True, top = True, \n",
    "                color = 'k', width = 1)\n",
    "\n",
    "fig.add_artist(Line2D([0.5, 0.5], [0.085, 0.92], color='black', lw=2, transform=fig.transFigure))\n",
    "\n",
    "\n",
    "#plt.savefig('output_images/detection_comparison.pdf', bbox_inches = 'tight')"
   ]
  },
  {
   "cell_type": "markdown",
   "id": "4599a734",
   "metadata": {},
   "source": [
    "# Clean image from secondary objects\n",
    "\n"
   ]
  },
  {
   "cell_type": "code",
   "execution_count": null,
   "id": "65f25761",
   "metadata": {
    "ExecuteTime": {
     "end_time": "2025-01-29T17:04:11.725874Z",
     "start_time": "2025-01-29T17:04:11.723861Z"
    }
   },
   "outputs": [],
   "source": [
    "from mex.Cleaning_module import GalaxyCleaner\n",
    "cleaner = GalaxyCleaner(galaxy_nobkg_frame, sep_segmentation)"
   ]
  },
  {
   "cell_type": "markdown",
   "id": "39079258",
   "metadata": {},
   "source": [
    "## Fill with constant value"
   ]
  },
  {
   "cell_type": "code",
   "execution_count": null,
   "id": "29caf81a",
   "metadata": {
    "ExecuteTime": {
     "end_time": "2025-01-29T17:04:12.720510Z",
     "start_time": "2025-01-29T17:04:12.718767Z"
    }
   },
   "outputs": [],
   "source": [
    "galaxy_clean_flat = cleaner.flat_filler(median = 0)"
   ]
  },
  {
   "cell_type": "markdown",
   "id": "f78da9e2",
   "metadata": {},
   "source": [
    "## Replace bad pixels with background gaussian sampling"
   ]
  },
  {
   "cell_type": "code",
   "execution_count": null,
   "id": "ec565c9d",
   "metadata": {
    "ExecuteTime": {
     "end_time": "2025-01-29T17:04:13.565746Z",
     "start_time": "2025-01-29T17:04:13.562671Z"
    }
   },
   "outputs": [],
   "source": [
    "mean = np.nanmean(galaxy_nobkg_frame[sep_segmentation == 0])\n",
    "std = np.nanstd(galaxy_nobkg_frame[sep_segmentation == 0])\n",
    "galaxy_clean_gauss = cleaner.gaussian_filler(mean, std)"
   ]
  },
  {
   "cell_type": "markdown",
   "id": "0411c0f9",
   "metadata": {},
   "source": [
    "## Sampling from elliptical isophotes following the main object"
   ]
  },
  {
   "cell_type": "code",
   "execution_count": null,
   "id": "5e1e5552",
   "metadata": {
    "ExecuteTime": {
     "end_time": "2025-01-29T17:04:18.259914Z",
     "start_time": "2025-01-29T17:04:14.582528Z"
    }
   },
   "outputs": [],
   "source": [
    "x, y = len(sep_segmentation)//2, len(sep_segmentation[0])//2\n",
    "main_id = sep_segmentation[y,x]\n",
    "galaxy_clean_iso = cleaner.isophotes_filler(sep_catalog['theta'][main_id - 1])"
   ]
  },
  {
   "cell_type": "markdown",
   "id": "eb9a9f76",
   "metadata": {
    "ExecuteTime": {
     "end_time": "2025-01-21T18:35:25.515108Z",
     "start_time": "2025-01-21T18:35:25.512566Z"
    }
   },
   "source": [
    "## Comparison between different methods"
   ]
  },
  {
   "cell_type": "code",
   "execution_count": null,
   "id": "1c293414",
   "metadata": {
    "ExecuteTime": {
     "end_time": "2025-01-29T17:04:25.767514Z",
     "start_time": "2025-01-29T17:04:25.005097Z"
    }
   },
   "outputs": [],
   "source": [
    "plt.figure(figsize = (12,12), dpi = 200)\n",
    "\n",
    "ax = plt.subplot(2,2,1)\n",
    "plt.title('Original Image', fontsize = 22)\n",
    "m, s = np.nanmedian(galaxy_nobkg_frame), np.nanstd(galaxy_nobkg_frame)\n",
    "plt.imshow(galaxy_nobkg_frame, origin = 'lower', vmin = m, vmax = m+(3*s), cmap = 'gray_r')\n",
    "plt.xticks(fontsize = 16)\n",
    "plt.yticks(fontsize = 16)\n",
    "plt.tick_params(direction = 'in', size = 7, left = True, right = True, bottom = True, top = True, \n",
    "                color = 'k', width = 1)\n",
    "\n",
    "\n",
    "plt.subplot(2,2,2)\n",
    "plt.title('Flat', fontsize = 22)\n",
    "plt.imshow(galaxy_clean_flat, origin = 'lower', vmin = m, vmax = m+(3*s), cmap = 'gray_r')\n",
    "plt.xticks(fontsize = 16)\n",
    "plt.yticks(fontsize = 16)\n",
    "plt.tick_params(direction = 'in', size = 7, left = True, right = True, bottom = True, top = True, \n",
    "                color = 'k', width = 1)\n",
    "\n",
    "\n",
    "plt.subplot(2,2,3)\n",
    "plt.title('Gaussian Sampling', fontsize = 22)\n",
    "plt.imshow(galaxy_clean_gauss, origin = 'lower', vmin = m, vmax = m+(3*s), cmap = 'gray_r')\n",
    "plt.xticks(fontsize = 16)\n",
    "plt.yticks(fontsize = 16)\n",
    "plt.tick_params(direction = 'in', size = 7, left = True, right = True, bottom = True, top = True, \n",
    "                color = 'k', width = 1)\n",
    "\n",
    "plt.subplot(2,2,4)\n",
    "plt.title('Isophotal Sampling', fontsize = 22)\n",
    "plt.imshow(galaxy_clean_iso, origin = 'lower', vmin = m, vmax = m+(3*s), cmap = 'gray_r')\n",
    "plt.xticks(fontsize = 16)\n",
    "plt.yticks(fontsize = 16)\n",
    "plt.tick_params(direction = 'in', size = 7, left = True, right = True, bottom = True, top = True, \n",
    "                color = 'k', width = 1)\n",
    "#plt.savefig('output_images/cleaning_comparison.pdf', bbox_inches = 'tight')"
   ]
  },
  {
   "cell_type": "markdown",
   "id": "48bb2f2a",
   "metadata": {},
   "source": [
    "# Perform light profile analysis\n",
    "\n",
    "When analysing galaxies, an important feature is the Petrosian radius, which provides a redshift-independent scale with respect to galaxy light profile. I included within the package a function to easily calculate the Petrosian radius, in pixels. Notably, the Petrosian radius is a more stable choice over other radii adopted in the literature, such as Kron radius, or the radius encomprising a fraction of total flux. Differently from the previous functions, where the input of the main class was simply the image and the segmentation mask, in this case the PetrosianCalculator class is initialized using the desired image (I suggest using a cleaned image) and the properties of the object within the image, i.e. the x and y coordinates (in pixels), semi-major and semi-minor axis (a and b), and the object inclination angle (theta, in radians)."
   ]
  },
  {
   "cell_type": "code",
   "execution_count": null,
   "id": "5511578f",
   "metadata": {
    "ExecuteTime": {
     "end_time": "2025-01-29T17:04:27.294433Z",
     "start_time": "2025-01-29T17:04:27.291997Z"
    }
   },
   "outputs": [],
   "source": [
    "from mex.Petrosian_module import PetrosianCalculator\n",
    "\n",
    "x, y, a, b, theta, npix = sep_catalog.iloc[main_id - 1][['x', 'y', 'a', 'b', 'theta', 'npix']]\n",
    "rp_calc = PetrosianCalculator(galaxy_clean_iso, x, y, a, b, theta)"
   ]
  },
  {
   "cell_type": "markdown",
   "id": "c2ff58ca",
   "metadata": {},
   "source": [
    "## Calculate Petrosian Radius - Optimized\n",
    "Notably, the easiest way to define the Petrosian radius is to calculate using apertures until image edges. However, this becomes extremely slow when dealing with large images. To avoid this, I include in the function below the option to optimize this calculation. Namely, it uses the bissection method to define when it should stop."
   ]
  },
  {
   "cell_type": "code",
   "execution_count": null,
   "id": "59092bad",
   "metadata": {
    "ExecuteTime": {
     "end_time": "2025-01-29T17:04:28.765015Z",
     "start_time": "2025-01-29T17:04:28.503661Z"
    }
   },
   "outputs": [],
   "source": [
    "eta, growth_curve, radius, rp, eta_flag = rp_calc.calculate_petrosian_radius(rp_thresh = 0.2, \n",
    "                                                                 aperture = \"elliptical\", \n",
    "                                                                 optimize_rp = True,\n",
    "                                                                 interpolate_order = 3, \n",
    "                                                                 Naround = 3, rp_step = 0.05)"
   ]
  },
  {
   "cell_type": "markdown",
   "id": "aac6c472",
   "metadata": {},
   "source": [
    "## Petrosian Radius - Full image analysis\n",
    "The full analysis can be done simply by altering the \"optimize_rp\" parameter to false. See how longer it takes in comparison to the previous case."
   ]
  },
  {
   "cell_type": "code",
   "execution_count": null,
   "id": "f958b61a",
   "metadata": {
    "ExecuteTime": {
     "end_time": "2025-01-29T17:04:32.739550Z",
     "start_time": "2025-01-29T17:04:29.558610Z"
    }
   },
   "outputs": [],
   "source": [
    "eta2, growth_curve2, radius2, rp2, eta_flag2 = rp_calc.calculate_petrosian_radius(rp_thresh = 0.2, \n",
    "                                                                 aperture = \"elliptical\", \n",
    "                                                                 optimize_rp = False,\n",
    "                                                                 interpolate_order = 3, \n",
    "                                                                 Naround = 3, rp_step = 0.05)"
   ]
  },
  {
   "cell_type": "markdown",
   "id": "89af0432",
   "metadata": {
    "ExecuteTime": {
     "end_time": "2025-01-21T19:25:53.052252Z",
     "start_time": "2025-01-21T19:25:53.049780Z"
    }
   },
   "source": [
    "## Petrosian Radius - Circular Apertures\n",
    "The estimate of Petrosian radius can also be affected by the aperture format. For instance, in the SDSS, they use circular apertures. Despite I think elliptical apertures make more sense with the shapes and light distribution of galaxies, below I show an example using circular apertures."
   ]
  },
  {
   "cell_type": "code",
   "execution_count": null,
   "id": "ebef444a",
   "metadata": {
    "ExecuteTime": {
     "end_time": "2025-01-29T17:04:36.582698Z",
     "start_time": "2025-01-29T17:04:33.425596Z"
    }
   },
   "outputs": [],
   "source": [
    "eta3, growth_curve3, radius3, rp3, eta_flag = rp_calc.calculate_petrosian_radius(rp_thresh = 0.2, \n",
    "                                                                     aperture = \"circular\", \n",
    "                                                                     optimize_rp = False,\n",
    "                                                                     interpolate_order = 3, \n",
    "                                                                     Naround = 3, rp_step = 0.05)"
   ]
  },
  {
   "cell_type": "markdown",
   "id": "89fa3766",
   "metadata": {},
   "source": [
    "## Comparison between different setups\n",
    "\n",
    "Below I show a comparison between the different setups. Since the selected object is very close to a circle, i.e. a/b~1, there is not much difference between Circular or Elliptical apertures."
   ]
  },
  {
   "cell_type": "code",
   "execution_count": null,
   "id": "84c77ada",
   "metadata": {
    "ExecuteTime": {
     "end_time": "2025-01-29T17:04:49.977649Z",
     "start_time": "2025-01-29T17:04:49.584472Z"
    }
   },
   "outputs": [],
   "source": [
    "plt.figure(figsize = (12,6), dpi = 200)\n",
    "\n",
    "plt.subplot(1,2,1)\n",
    "plt.title(r'$\\eta$ Curve', fontsize = 22)\n",
    "plt.plot(radius2, eta2, color = 'b', lw = 4, label = 'Full Analisis')\n",
    "plt.plot(radius3, eta3, color = 'g', lw = 3, label = 'Circular Apertures')\n",
    "plt.plot(radius, eta, color = 'r', lw = 2, label = 'Optimized')\n",
    "plt.axhline(0.2, color = 'k', ls = ':')\n",
    "plt.axvline(rp2, color = 'b', ls = ':')\n",
    "plt.axvline(rp3, color = 'g', ls = ':')\n",
    "plt.axvline(rp, color = 'r', ls = ':')\n",
    "plt.xticks(fontsize = 16)\n",
    "plt.yticks(fontsize = 16)\n",
    "plt.xlabel(\"Semi-major axis (pixels)\", fontsize =  18)\n",
    "plt.ylabel(r\"$\\eta(R)$\", fontsize = 18)\n",
    "plt.legend(frameon = False, fontsize = 16)\n",
    "plt.tick_params(direction = 'in', size = 7, left = True, right = True, bottom = True, top = True)\n",
    "\n",
    "ax = plt.subplot(1,2,2)\n",
    "plt.title(r'Growth Curve', fontsize = 22)\n",
    "plt.plot(radius2, growth_curve2, color = 'b', lw = 4, label = 'Full Analisis')\n",
    "plt.plot(radius3, growth_curve3, color = 'g', lw = 3, label = 'Circular Apertures')\n",
    "plt.plot(radius, growth_curve, color = 'r', lw = 2, label = 'Optimized')\n",
    "plt.xticks(fontsize = 16)\n",
    "plt.yticks(fontsize = 16)\n",
    "plt.xlabel(\"Semi-major axis (pixels)\", fontsize =  18)\n",
    "plt.ylabel(r\"Integrated Flux\", fontsize = 18)\n",
    "plt.legend(frameon = False, fontsize = 16)\n",
    "ax.ticklabel_format(axis = 'y', scilimits = (3,3))\n",
    "plt.tick_params(direction = 'in', size = 7, left = True, right = True, bottom = True, top = True)\n",
    "#plt.savefig(\"output_images/petrosian_comparison.pdf\", bbox_inches = 'tight')"
   ]
  },
  {
   "cell_type": "markdown",
   "id": "cccb7021",
   "metadata": {},
   "source": [
    "# Create segmentation mask\n",
    "\n",
    "Defining what pixels belong to a given galaxy can directly influence the non-parametric index estimate. Therefore, extra caution is needed in this step, in order to guarantee robust and consistent metrics measurements. For instance, using the sextractor/sep segmentation mask can be extremely influenced by the galaxy redshift, therefore not sampling the same \"amount\" of the galaxy for different redshifts. Similar to the Petrosian radius calculator, the segmentation relies on more than simply the image and segmentation mask. The inclusion of a characteristic radius (rp, in this case), the x and y positions, and the ellipse defining parameters (a, b, theta) is done to ensure a smoother run in the wrapper code (see pdf manual). "
   ]
  },
  {
   "cell_type": "code",
   "execution_count": null,
   "id": "cea078b1",
   "metadata": {
    "ExecuteTime": {
     "end_time": "2025-01-29T17:04:52.646409Z",
     "start_time": "2025-01-29T17:04:52.643768Z"
    }
   },
   "outputs": [],
   "source": [
    "from mex.Segmentation_module import SegmentImage\n",
    "segm = SegmentImage(galaxy_clean_iso, sep_segmentation, rp, x, y, a, b, theta)\n"
   ]
  },
  {
   "cell_type": "markdown",
   "id": "41713b04",
   "metadata": {},
   "source": [
    "## Segmentation from SEP/SExtractor\n",
    "\n",
    "The simplest, although highly not recommended, way to define the segmentation mask is to use the output of the SEP/SExtractor. I therefore include a function to simply remove other objects and assign the value \"1\" to the \"main\" object."
   ]
  },
  {
   "cell_type": "code",
   "execution_count": null,
   "id": "983d42c2",
   "metadata": {
    "ExecuteTime": {
     "end_time": "2025-01-29T17:04:55.107302Z",
     "start_time": "2025-01-29T17:04:55.105494Z"
    }
   },
   "outputs": [],
   "source": [
    "segmentation_original = segm._get_original()"
   ]
  },
  {
   "cell_type": "markdown",
   "id": "25fd75c5",
   "metadata": {},
   "source": [
    "## Limiting to an ellipse with characteristic radius\n",
    "A robust, and simple, way to define pixels belonging to the galaxy is to use all the pixels within an ellipse with the semi-major axis equals to a characteristic radius, while keeping the same a/b ratio and inclination angle. In the example below, I'm using a factor (k_segmentation) times the petrosian radius."
   ]
  },
  {
   "cell_type": "code",
   "execution_count": null,
   "id": "7125f5b2",
   "metadata": {
    "ExecuteTime": {
     "end_time": "2025-01-29T17:04:55.937885Z",
     "start_time": "2025-01-29T17:04:55.935321Z"
    }
   },
   "outputs": [],
   "source": [
    "segmentation_ellipse = segm._limit_to_ellipse(k_segmentation = 1)"
   ]
  },
  {
   "cell_type": "markdown",
   "id": "1929da0b",
   "metadata": {},
   "source": [
    "## Limiting to the average intensity at a given radius\n",
    "A more refined, perhaps concise, of defining which pixels belong to the galaxy consists in, instead of limiting to a given radius, limiting to a given intensity/flux. For instance, A proper way to define the threshold intensity/flux is to get the average flux at a given radius. Again, the k_segmentation parameter is a factor that multiplies rp to get the average intensity at k_segmentation times rp, i.e. <I(k_segmentation * rp)>. To avoid including disperse pixels that lie above the threshold, I only perform the selection criteria in pixels attributed to the main object in the SEP/SExtractor segmentation mask. Thus, if the segmented mask when limiting to the average density at a given radius is more permissive than the criteria adopted in SEP/SExtractor for object detection, then the result may be the SEP/SExtractor mask itself.   "
   ]
  },
  {
   "cell_type": "code",
   "execution_count": null,
   "id": "2f2f9789",
   "metadata": {
    "ExecuteTime": {
     "end_time": "2025-01-29T17:04:56.922015Z",
     "start_time": "2025-01-29T17:04:56.913864Z"
    }
   },
   "outputs": [],
   "source": [
    "segmentation_intensity, mup = segm._limit_to_intensity(k_segmentation = 1)"
   ]
  },
  {
   "cell_type": "markdown",
   "id": "d4d199c0",
   "metadata": {},
   "source": [
    "## Calculate flux and area\n",
    "In order to calculate the average intensity, I have built functions to return the flux and area at a given radius, as shown below.\n"
   ]
  },
  {
   "cell_type": "code",
   "execution_count": null,
   "id": "1d1e87a0",
   "metadata": {
    "ExecuteTime": {
     "end_time": "2025-01-29T17:04:57.832562Z",
     "start_time": "2025-01-29T17:04:57.828631Z"
    }
   },
   "outputs": [],
   "source": [
    "flux, area = segm._calculate_flux_and_area(x, y, a, b, theta, scale = 1 * rp)\n",
    "print(flux/area)"
   ]
  },
  {
   "cell_type": "markdown",
   "id": "2c047b30",
   "metadata": {},
   "source": [
    "## Get average intensity\n",
    "The threshold value to select pixels uses the function shown below. I'm including it here for completeness, as it may be useful also in standalone uses."
   ]
  },
  {
   "cell_type": "code",
   "execution_count": null,
   "id": "28323da3",
   "metadata": {
    "ExecuteTime": {
     "end_time": "2025-01-29T17:04:59.851896Z",
     "start_time": "2025-01-29T17:04:59.845814Z"
    }
   },
   "outputs": [],
   "source": [
    "mu_thresh = segm._average_intensity(k_segmentation = 1)\n",
    "print(mu_thresh)"
   ]
  },
  {
   "cell_type": "markdown",
   "id": "38ad203e",
   "metadata": {},
   "source": [
    "## Segmentation mask comparison"
   ]
  },
  {
   "cell_type": "code",
   "execution_count": null,
   "id": "27023509",
   "metadata": {
    "ExecuteTime": {
     "end_time": "2025-01-29T17:05:26.963686Z",
     "start_time": "2025-01-29T17:05:26.215768Z"
    }
   },
   "outputs": [],
   "source": [
    "plt.figure(figsize  = (12,12), dpi = 200)\n",
    "\n",
    "plt.subplot(2,2,1)\n",
    "plt.title('Cleaned Image', fontsize = 22)\n",
    "plt.imshow(galaxy_clean_iso, origin = 'lower', vmin = m, vmax = m+(3*s), cmap = 'gray_r')\n",
    "plt.xticks(fontsize = 16)\n",
    "plt.yticks(fontsize = 16)\n",
    "plt.tick_params(direction = 'in', size = 7, left = True, right = True, bottom = True, top = True, \n",
    "                color = 'k', width = 1)\n",
    "\n",
    "plt.subplot(2,2,2)\n",
    "plt.title('SExtractor/SEP', fontsize = 22)\n",
    "plt.imshow(segmentation_original, origin = 'lower', vmax = 1, vmin = 0, cmap = 'gray_r')\n",
    "plt.xticks(fontsize = 16)\n",
    "plt.yticks(fontsize = 16)\n",
    "plt.tick_params(direction = 'in', size = 7, left = True, right = True, bottom = True, top = True, \n",
    "                color = 'k', width = 1)\n",
    "\n",
    "plt.subplot(2,2,3)\n",
    "plt.title('Ellipse Limited', fontsize = 22)\n",
    "plt.imshow(segmentation_ellipse, origin = 'lower', vmax = 1, vmin = 0, cmap = 'gray_r')\n",
    "plt.xticks(fontsize = 16)\n",
    "plt.yticks(fontsize = 16)\n",
    "plt.tick_params(direction = 'in', size = 7, left = True, right = True, bottom = True, top = True, \n",
    "                color = 'k', width = 1)\n",
    "\n",
    "plt.subplot(2,2,4)\n",
    "plt.title('Intensity Limited', fontsize = 22)\n",
    "plt.imshow(segmentation_intensity, origin = 'lower', vmax = 1, vmin = 0, cmap = 'gray_r')\n",
    "plt.xticks(fontsize = 16)\n",
    "plt.yticks(fontsize = 16)\n",
    "plt.tick_params(direction = 'in', size = 7, left = True, right = True, bottom = True, top = True, \n",
    "                color = 'k', width = 1)\n",
    "#plt.savefig('output_images/segmentation_comparison.pdf', bbox_inches = 'tight')"
   ]
  },
  {
   "cell_type": "markdown",
   "id": "af873cd8",
   "metadata": {},
   "source": [
    "# Generating a noise map\n",
    "\n",
    "In some metrics, besides galaxy measurements, it is also required some noise correction. The package contain a pre-defined function to create \"mini\" version of the images such that the three required images (galaxy, noise, and segmentation mask) is easily retrieved."
   ]
  },
  {
   "cell_type": "code",
   "execution_count": null,
   "id": "272b18c3",
   "metadata": {
    "ExecuteTime": {
     "end_time": "2025-01-29T17:05:55.647986Z",
     "start_time": "2025-01-29T17:05:54.748966Z"
    }
   },
   "outputs": [],
   "source": [
    "from mex.Utils_module import extract_cutouts\n",
    "\n",
    "clean_mini, segmented_mini, ranges, noise_mini, best_corner = extract_cutouts(galaxy_clean_iso, segmentation_ellipse, expansion_factor=1.2, estimate_noise=True)\n",
    "\n",
    "\n",
    "plt.figure(figsize = (24,6), dpi = 200)\n",
    "\n",
    "# Define the rectangle coordinates for galaxy_mini and noise_mini\n",
    "plt.subplot(1,4,1)\n",
    "m, s = np.nanmedian(galaxy_clean_iso), np.nanstd(galaxy_clean_iso)\n",
    "plt.imshow(galaxy_clean_iso, origin = 'lower', vmin = m, vmax = m+(3*s), cmap = 'gray_r')\n",
    "\n",
    "delta = (ranges[1]-ranges[0])/2\n",
    "x0,y0 = len(galaxy_clean_iso[0])/2, len(galaxy_clean_iso)/2\n",
    "galaxy_rect = [x0 - delta, x0 + delta + 1, y0 - delta, y0 + delta + 1]\n",
    "noise_rect = [0, 2 * delta + 1, 0, 2 * delta + 1]\n",
    "# Add a red rectangle for galaxy_mini\n",
    "plt.gca().add_patch(plt.Rectangle((galaxy_rect[0], galaxy_rect[2]),\n",
    "                                   galaxy_rect[1] - galaxy_rect[0],\n",
    "                                   galaxy_rect[3] - galaxy_rect[2],\n",
    "                                   edgecolor=\"red\", facecolor=\"none\", linewidth=2, label=\"Galaxy Mini\"))\n",
    "\n",
    "# Add a blue rectangle for noise_mini\n",
    "plt.gca().add_patch(plt.Rectangle((noise_rect[0], noise_rect[2]),\n",
    "                                   noise_rect[1] - noise_rect[0],\n",
    "                                   noise_rect[3] - noise_rect[2],\n",
    "                                   edgecolor=\"blue\", facecolor=\"none\", linewidth=2, label=\"Noise Map\"))\n",
    "plt.legend(frameon = False, fontsize = 16)\n",
    "plt.xticks(fontsize = 16)\n",
    "plt.yticks(fontsize = 16)\n",
    "plt.tick_params(direction = 'in', size = 7, left = True, right = True, bottom = True, top = True, \n",
    "                color = 'k', width = 1)\n",
    "\n",
    "\n",
    "plt.subplot(1,4,2)\n",
    "plt.title('Galaxy \"Mini\"', fontsize = 22)\n",
    "m, s = np.nanmedian(galaxy_clean_iso), np.nanstd(galaxy_clean_iso)\n",
    "plt.imshow(clean_mini, origin = 'lower', vmin = m, vmax = m+(3*s), cmap = 'gray_r')\n",
    "plt.xticks(fontsize = 16)\n",
    "plt.yticks(fontsize = 16)\n",
    "plt.tick_params(direction = 'in', size = 7, left = True, right = True, bottom = True, top = True, \n",
    "                color = 'k', width = 1)\n",
    "\n",
    "plt.subplot(1,4,3)\n",
    "plt.title('Noise Map', fontsize = 22)\n",
    "plt.imshow(noise_mini, origin = 'lower', vmin = m, vmax = m+(3*s), cmap = 'gray_r')\n",
    "plt.xticks(fontsize = 16)\n",
    "plt.yticks(fontsize = 16)\n",
    "plt.tick_params(direction = 'in', size = 7, left = True, right = True, bottom = True, top = True, \n",
    "                color = 'k', width = 1)\n",
    "\n",
    "plt.subplot(1,4,4)\n",
    "plt.title('Segmentation Mask \"Mini\"', fontsize = 22)\n",
    "plt.imshow(segmented_mini, origin = 'lower', vmin = 0, vmax = 1, cmap = 'gray_r')\n",
    "plt.xticks(fontsize = 16)\n",
    "plt.yticks(fontsize = 16)\n",
    "plt.tick_params(direction = 'in', size = 7, left = True, right = True, bottom = True, top = True, \n",
    "                color = 'k', width = 1)\n",
    "\n",
    "#plt.savefig('output_images/noise_map.pdf', bbox_inches = 'tight')"
   ]
  },
  {
   "cell_type": "markdown",
   "id": "39a543f1",
   "metadata": {},
   "source": [
    "# Concentration\n",
    "\n",
    "Concentration is one of the metrics from the CAS systems. It can be mathematically shown that it has a relation with the Sérsic index. Just as in the previous case, concentration is a class within the package, which requires only the full image as first input."
   ]
  },
  {
   "cell_type": "code",
   "execution_count": null,
   "id": "7ca8d892",
   "metadata": {
    "ExecuteTime": {
     "end_time": "2025-01-29T17:06:05.514612Z",
     "start_time": "2025-01-29T17:06:05.512682Z"
    }
   },
   "outputs": [],
   "source": [
    "from mex.Metrics_module import Concentration\n",
    "\n",
    "conc = Concentration(galaxy_clean_iso)"
   ]
  },
  {
   "cell_type": "markdown",
   "id": "b6d0016e",
   "metadata": {},
   "source": [
    "## Following Conselice (2003)\n",
    "\n",
    "The C parameter in Conselice is defined as $C = 5 \\times \\log(R_{20}/R_{80})$, where $R_{20}, R_{80}$ are the radii containing 20 and 80% of the total flux. Defining these radii depends on sampling the light profile of the object. It can be easily done by calling the \"get_concentration\" function implemented within the Concentration class. It requires object central coordinates (x, y), the best fitting ellipse parameters (a, b, and theta -- which are used for defining the apertures), and the method (\"conselice\" or \"barchi\"). Notably, the total flux also must be calculated within a given aperture, for which the rmax (a semi-major axis, actually) defines the aperture containing the whole galaxy. In a more fine-grain tuning, the values of 20 and 80% are somewhat arbitrary, and both can be easily adapted by using the f_inner and f_outter args. Finally, sampling_step, Naround, and interp_order defined parameters of the sampling. In particular interp_order defines the interpolation order to get the exact radius value corresponding to the flux percentages."
   ]
  },
  {
   "cell_type": "code",
   "execution_count": null,
   "id": "4615577b",
   "metadata": {
    "ExecuteTime": {
     "end_time": "2025-01-29T17:06:07.733192Z",
     "start_time": "2025-01-29T17:06:07.351795Z"
    }
   },
   "outputs": [],
   "source": [
    "C, rinner, routter = conc.get_concentration(x = x, \n",
    "                                            y = y, \n",
    "                                            a = a, \n",
    "                                            b = b, \n",
    "                                            theta = theta,\n",
    "                                            method = 'conselice', \n",
    "                                            f_inner = 0.2, \n",
    "                                            f_outter = 0.8,\n",
    "                                            rmax = 2*rp, \n",
    "                                            sampling_step = 0.5, \n",
    "                                            Naround = 3, \n",
    "                                            interp_order = 3)\n",
    "print(C, rinner, routter)"
   ]
  },
  {
   "cell_type": "markdown",
   "id": "7cf00eec",
   "metadata": {},
   "source": [
    "## Following Barchi et al. (2020)\n",
    "\n",
    "Similar to Conselice, the Concentration prescription presented in Ferrari et al.(2015) and Barchi et al.(2020) excludes the multiplicative factor: $C = \\log(R_{20}/R_{80})$. It can be calculated using the same function as the above, only changing the method to \"barchi\"."
   ]
  },
  {
   "cell_type": "code",
   "execution_count": null,
   "id": "d53bbe3f",
   "metadata": {
    "ExecuteTime": {
     "end_time": "2025-01-29T17:06:10.170852Z",
     "start_time": "2025-01-29T17:06:09.803660Z"
    }
   },
   "outputs": [],
   "source": [
    "C, rinner, routter = conc.get_concentration(x = x, \n",
    "                                            y = y, \n",
    "                                            a = a, \n",
    "                                            b = b, \n",
    "                                            theta = theta,\n",
    "                                            method = 'barchi', \n",
    "                                            f_inner = 0.2, \n",
    "                                            f_outter = 0.8,\n",
    "                                            rmax = 2*rp, \n",
    "                                            sampling_step = 0.5, \n",
    "                                            Naround = 3, \n",
    "                                            interp_order = 3)\n",
    "print(C, rinner, routter)"
   ]
  },
  {
   "cell_type": "markdown",
   "id": "35207288",
   "metadata": {},
   "source": [
    "## Calculate the growth curve\n",
    "\n",
    "The Concentration involves the growth curve. For testing reliability and the stand-alone function\"get_growth_curve\" can be used to get the object's growth curve. It only receives the position (x,y) and aperture parameters (a, b, theta)."
   ]
  },
  {
   "cell_type": "code",
   "execution_count": null,
   "id": "b76fe33d",
   "metadata": {
    "ExecuteTime": {
     "end_time": "2025-01-29T17:06:13.174816Z",
     "start_time": "2025-01-29T17:06:12.966379Z"
    }
   },
   "outputs": [],
   "source": [
    "radii, growth_curve, growth_err = conc.get_growth_curve(x, y, a, b, theta)"
   ]
  },
  {
   "cell_type": "markdown",
   "id": "0d7968f9",
   "metadata": {},
   "source": [
    "## Get radius containing a fraction of total flux\n",
    "\n",
    "Based on above quantities, it is also possible to get the radius containing a given flux fraction using the in-built function \"get_radius\", it only receives the radii and growth curve arrays as input, alongside the fraction to define the radius. For instance, 0.5 means $R_{50}$."
   ]
  },
  {
   "cell_type": "code",
   "execution_count": null,
   "id": "b71b40d7",
   "metadata": {
    "ExecuteTime": {
     "end_time": "2025-01-29T17:06:14.569283Z",
     "start_time": "2025-01-29T17:06:14.484135Z"
    }
   },
   "outputs": [],
   "source": [
    "r_half = conc.get_radius(radii, growth_curve, fraction=0.5)"
   ]
  },
  {
   "cell_type": "markdown",
   "id": "8b522e23",
   "metadata": {},
   "source": [
    "## Sanity check plot - Growth curve\n",
    "For every metric there is sanity check plot. In the case of Concentration, it is the Growth curve with the lines defining the f_inner and f_outter radii. Note that, for consistency, the inputs should be the same as the ones used in \"get_concentration\".\n"
   ]
  },
  {
   "cell_type": "code",
   "execution_count": null,
   "id": "b7710998",
   "metadata": {
    "ExecuteTime": {
     "end_time": "2025-01-29T17:06:29.006854Z",
     "start_time": "2025-01-29T17:06:28.386291Z"
    }
   },
   "outputs": [],
   "source": [
    "fig = conc.plot_growth_curve(x, y, a, b, theta, rmax=2*rp, sampling_step=0.5, \n",
    "                             f_inner=0.2, f_outter=0.8, Naround=3, interp_order=3)\n",
    "\n",
    "#plt.savefig('output_images/growth_curve.pdf', bbox_inches = 'tight')"
   ]
  },
  {
   "cell_type": "markdown",
   "id": "34dbba94",
   "metadata": {},
   "source": [
    "# Asymmetry\n",
    "\n",
    "Asymmetry is one of the indexes mainly used in the literature to define possible merger candidates. It is calculated by comparing the galaxy with its rotated (by an angle $\\theta$ version. Similar to Concentration, in the MEx code it has its own dedicated class. The inputs are the galaxy image, the angle (in degrees, usually 180), the segmentation mask and the noise image. All must have the same dimensions. Besides, noise is optional, if it is not provided, then the values won't be corrected due to the noise."
   ]
  },
  {
   "cell_type": "code",
   "execution_count": null,
   "id": "5fe5b69b",
   "metadata": {
    "ExecuteTime": {
     "end_time": "2025-01-29T17:06:37.988638Z",
     "start_time": "2025-01-29T17:06:37.986040Z"
    }
   },
   "outputs": [],
   "source": [
    "from mex.Metrics_module import Asymmetry\n",
    "\n",
    "# Initialize the Asymmetry class\n",
    "asymmetry_calculator = Asymmetry(clean_mini, angle=180, segmentation=segmented_mini, noise=noise_mini)\n"
   ]
  },
  {
   "cell_type": "markdown",
   "id": "e22f2e61",
   "metadata": {},
   "source": [
    "## Conselice's asymmetry\n",
    "In Conselice (2000), two different ways of calculating asymmetry are compared. First the RMS, which is calculated as $ A^{2}_{\\rm RMS} = \\frac{\\sum (I_{\\rm o} - I_{\\rm R})^{2}}{2 \\times \\sum I_{\\rm o}^{2}}$. The second, ABS, is calculated as $ A_{\\rm ABS} = \\frac{\\sum |I_{\\rm o} - I_{\\rm R}|}{2 \\times \\sum |I_{\\rm o}|}$. The summation is done over all galaxy pixels. Since it depends on rotation, it may be extremely sensitive to central coordinates choice. Thus, a minimization process is applied to ensure that the value is the minimum for the galaxy, $A_{\\text{RMS or ABS}}^{\\rm Galaxy} = min(A_{\\text{RMS or ABS}})$. This is done by computing asymmetry in a 3x3 grid until the central element being the minimum. The \"max_iter\" parameter defines the number of allowed iterations in this procedure. If a noise map is provided, the same procedure (including minimization) is done to account for the noise influence,  $A^{\\rm Noise}_{\\rm ABS} = \\frac{\\sum |N_{\\rm o} - N_{\\rm R}|}{2 \\times \\sum |I_{\\rm o}|}$, such that the final asymmetry is given by $A_{\\rm final} = min(A^{\\rm Galaxy}) - min(A^{\\rm Noise})$. The built function returns $A_{\\rm final}, A^{\\rm Galaxy}, \\, {\\rm and} \\, A_{\\rm noise}$, in addition to the center used for the galaxy and for the noise, and the number of iterations to reach each. \n",
    "\n",
    "*****An important caveat is how the comparison between pixels is done. Since the comparison between original and rotated images, both limited to a segmentation mask, not necessarily a pixel from the original image will have a correspondent valid pixel in the rotated image. Thus, it is necessary to make a choice on the criteria that these pixels are considered. For instance, in $Statmorph$ it requirer only one valid value (i.e. non-zero in the original OR in the rotated) to take the pixel into account. A more strict version may require both to be valid (i.e. non-zero in the original AND in the rotated). These different methods can be controlled via the \"pixel_comparison\" parameter, such that \"equal\" is equivalent to \"AND\", and \"simple\" is equivalent to \"OR\".}"
   ]
  },
  {
   "cell_type": "code",
   "execution_count": null,
   "id": "38e1dea2",
   "metadata": {
    "ExecuteTime": {
     "end_time": "2025-01-29T17:06:40.300951Z",
     "start_time": "2025-01-29T17:06:40.297425Z"
    }
   },
   "outputs": [],
   "source": [
    "A_final, A_gal, A_noise, center_gal, center_noise, niter_gal, niter_noise = asymmetry_calculator.get_conselice_asymmetry(method='absolute', \n",
    "                                                                                                                         pixel_comparison='equal', \n",
    "                                                                                                                         max_iter=50)\n",
    "print(A_final, A_gal, A_noise, niter_gal, niter_noise, center_gal)"
   ]
  },
  {
   "cell_type": "markdown",
   "id": "77684737",
   "metadata": {},
   "source": [
    "## Barchi's asymmetry\n",
    "\n",
    "Differently from the previous one, the Asymmetry presented in Ferrari et al.(2015) and Barchi et al.(2020) uses the correlation coefficient to define the asymmetry, $A = 1 - r$, where r is the spearman or the pearson (selected via corr_type parameter in the function call) correlation coefficients. In this case, there is no noise term, but the minimization is done following the same procedure as the applied for the case above. The function returns the asymmetry value, the maximum correlation coefficient, the center coordinates and the number of iterations needed to reach the minimum."
   ]
  },
  {
   "cell_type": "code",
   "execution_count": null,
   "id": "a3668e5f",
   "metadata": {
    "ExecuteTime": {
     "end_time": "2025-01-29T17:06:42.714525Z",
     "start_time": "2025-01-29T17:06:42.707938Z"
    }
   },
   "outputs": [],
   "source": [
    "A_barchi, r_max, center, niter = asymmetry_calculator.get_barchi_asymmetry(corr_type='spearman', \n",
    "                                                                           pixel_comparison='equal', \n",
    "                                                                           max_iter=50)  \n",
    "print(A_barchi, r_max, niter)"
   ]
  },
  {
   "cell_type": "markdown",
   "id": "7f31029a",
   "metadata": {},
   "source": [
    "## Sampaio's asymmetry\n",
    "This is a version that I've been working on as a better alternative in comparison to Conselice's asymmetry. The idea is to get rid of the summation in both numerator and denominator, and, instead to compute the differences relative to the original pixel value. It is also has two options \"RMS\" and \"ABS\". In the case of ABS, it is given by $ A^{\\rm Galaxy}_{ABS} = (1/N_{\\rm pixels}) \\times \\left (\\sum \\frac{|I_{\\rm O} - I_{\\rm R}|}{|I_{\\rm O}|} \\right)$. In this case, the comparison is indeed done pixel-by-pixel and not summing up all the valid pixels as in the original formula. Similar to the original case, the minimization and noise terms are also computed. The final asymmetry value is given by: $A_{\\rm final} = min((1/N_{\\rm pixels}) \\times \\left (\\sum \\frac{|I_{\\rm O} - I_{\\rm R}|}{|I_{\\rm O}|} \\right)) - min((1/N_{\\rm pixels}) \\times \\left (\\sum \\frac{|N_{\\rm O} - N_{\\rm R}|}{|I_{\\rm O}|} \\right))$. Similar to the original case, the pixel_comparison can be both \"equal\" or \"simple\"."
   ]
  },
  {
   "cell_type": "code",
   "execution_count": null,
   "id": "e7decd84",
   "metadata": {
    "ExecuteTime": {
     "end_time": "2025-01-29T17:06:43.465451Z",
     "start_time": "2025-01-29T17:06:43.461211Z"
    }
   },
   "outputs": [],
   "source": [
    "A_final, A_gal, A_noise, center_gal, center_noise, niter_gal, niter_noise = asymmetry_calculator.get_sampaio_asymmetry(method='absolute', \n",
    "                                                                                                                       pixel_comparison='equal', \n",
    "                                                                                                                       max_iter=50)\n",
    "print(A_final, A_gal, A_noise, niter_gal, niter_noise)"
   ]
  },
  {
   "cell_type": "markdown",
   "id": "d7e9fa1f",
   "metadata": {},
   "source": [
    "## Sanity check 1 - Image comparison plot"
   ]
  },
  {
   "cell_type": "code",
   "execution_count": null,
   "id": "47aaaddd",
   "metadata": {
    "ExecuteTime": {
     "end_time": "2025-01-29T17:07:03.926086Z",
     "start_time": "2025-01-29T17:07:02.595118Z"
    }
   },
   "outputs": [],
   "source": [
    "asymmetry_calculator.plot_asymmetry_comparison()\n",
    "#plt.savefig(\"output_images/asymmetry_comparison.pdf\", bbox_inches = 'tight')"
   ]
  },
  {
   "cell_type": "markdown",
   "id": "b8c10c5c",
   "metadata": {},
   "source": [
    "## Sanity check 2 - scatter plot"
   ]
  },
  {
   "cell_type": "code",
   "execution_count": null,
   "id": "afb235f5",
   "metadata": {
    "ExecuteTime": {
     "end_time": "2025-01-29T17:07:13.823706Z",
     "start_time": "2025-01-29T17:07:13.427784Z"
    }
   },
   "outputs": [],
   "source": [
    "asymmetry_calculator.plot_asymmetry_scatter(comparison=\"equal\")\n",
    "#plt.savefig('output_images/asymmetry_scatter.pdf', bbox_inches = 'tight')"
   ]
  },
  {
   "cell_type": "markdown",
   "id": "a78cacbb",
   "metadata": {},
   "source": [
    "# Smoothness"
   ]
  },
  {
   "cell_type": "code",
   "execution_count": null,
   "id": "f766f575",
   "metadata": {
    "ExecuteTime": {
     "end_time": "2025-01-29T17:07:30.127007Z",
     "start_time": "2025-01-29T17:07:30.120540Z"
    }
   },
   "outputs": [],
   "source": [
    "from mex.Metrics_module import Smoothness\n",
    "\n",
    "# Initialize the Smoothness class\n",
    "smoothness_calculator = Smoothness(clean_mini, \n",
    "                                   segmentation=segmented_mini, \n",
    "                                   noise=noise_mini, \n",
    "                                   smoothing_factor=rp/5, \n",
    "                                   smoothing_filter=\"box\")\n"
   ]
  },
  {
   "cell_type": "markdown",
   "id": "1faabc5a",
   "metadata": {},
   "source": [
    "## Conselice's Smoothness"
   ]
  },
  {
   "cell_type": "code",
   "execution_count": null,
   "id": "bb2081cb",
   "metadata": {
    "ExecuteTime": {
     "end_time": "2025-01-29T17:07:36.518185Z",
     "start_time": "2025-01-29T17:07:36.515138Z"
    }
   },
   "outputs": [],
   "source": [
    "S_final = smoothness_calculator.get_smoothness_conselice()\n",
    "                \n",
    "print(S_final)"
   ]
  },
  {
   "cell_type": "markdown",
   "id": "87c7246a",
   "metadata": {},
   "source": [
    "## Barchi's smoothness"
   ]
  },
  {
   "cell_type": "code",
   "execution_count": null,
   "id": "3be480c6",
   "metadata": {
    "ExecuteTime": {
     "end_time": "2025-01-29T17:07:37.196603Z",
     "start_time": "2025-01-29T17:07:37.192742Z"
    }
   },
   "outputs": [],
   "source": [
    "S_final, r = smoothness_calculator.get_smoothness_barchi()\n",
    "print(S_final, r)"
   ]
  },
  {
   "cell_type": "markdown",
   "id": "9f850611",
   "metadata": {},
   "source": [
    "## Sampaio's smoothness"
   ]
  },
  {
   "cell_type": "code",
   "execution_count": null,
   "id": "4c6b671e",
   "metadata": {
    "ExecuteTime": {
     "end_time": "2025-01-29T17:07:38.193912Z",
     "start_time": "2025-01-29T17:07:38.191281Z"
    }
   },
   "outputs": [],
   "source": [
    "S_final, S_gal, S_noise = smoothness_calculator.get_smoothness_sampaio()\n",
    "print(S_final, S_gal, S_noise)"
   ]
  },
  {
   "cell_type": "markdown",
   "id": "43f3dd57",
   "metadata": {},
   "source": [
    "## Sanity check 1 - image comparison plot"
   ]
  },
  {
   "cell_type": "code",
   "execution_count": null,
   "id": "d2fb75b6",
   "metadata": {
    "ExecuteTime": {
     "end_time": "2025-01-29T17:07:51.357231Z",
     "start_time": "2025-01-29T17:07:49.907997Z"
    }
   },
   "outputs": [],
   "source": [
    "smoothness_calculator.plot_smoothness_comparison()\n",
    "#plt.savefig('output_images/smoothness_comparison.pdf', bbox_inches = 'tight')"
   ]
  },
  {
   "cell_type": "markdown",
   "id": "bbcf2c37",
   "metadata": {},
   "source": [
    "## Sanity check 2 - scatter plot"
   ]
  },
  {
   "cell_type": "code",
   "execution_count": null,
   "id": "70e6efde",
   "metadata": {
    "ExecuteTime": {
     "end_time": "2025-01-29T17:08:01.835218Z",
     "start_time": "2025-01-29T17:08:01.456976Z"
    }
   },
   "outputs": [],
   "source": [
    "smoothness_calculator.plot_smoothness_scatter()\n",
    "#plt.savefig('output_images/smoothness_scatter.pdf', bbox_inches =  'tight')"
   ]
  },
  {
   "cell_type": "markdown",
   "id": "fdb3991d",
   "metadata": {},
   "source": [
    "# Moment of Light"
   ]
  },
  {
   "cell_type": "code",
   "execution_count": null,
   "id": "8fb85e29",
   "metadata": {
    "ExecuteTime": {
     "end_time": "2025-01-29T17:08:07.258385Z",
     "start_time": "2025-01-29T17:08:07.256035Z"
    }
   },
   "outputs": [],
   "source": [
    "from mex.Metrics_module import Moment_of_light\n",
    "moment_calculator = Moment_of_light(clean_mini, segmentation=segmented_mini)\n"
   ]
  },
  {
   "cell_type": "markdown",
   "id": "6c24b323",
   "metadata": {},
   "source": [
    "## Calculate Mf (usually M20, f = 0.2)"
   ]
  },
  {
   "cell_type": "code",
   "execution_count": null,
   "id": "49471dc1",
   "metadata": {
    "ExecuteTime": {
     "end_time": "2025-01-29T17:08:10.195015Z",
     "start_time": "2025-01-29T17:08:10.186745Z"
    }
   },
   "outputs": [],
   "source": [
    "x0, y0 = center_gal # assume that central image pixel coordinates are the one minimizing asymmetry\n",
    "m20 = moment_calculator.get_m20(x0=x0, y0=y0, f=0.2)\n",
    "print(m20)"
   ]
  },
  {
   "cell_type": "markdown",
   "id": "4cca5cbe",
   "metadata": {},
   "source": [
    "## Plot pixels contributing to M20"
   ]
  },
  {
   "cell_type": "code",
   "execution_count": null,
   "id": "dac97a76",
   "metadata": {
    "ExecuteTime": {
     "end_time": "2025-01-29T17:08:21.647989Z",
     "start_time": "2025-01-29T17:08:21.251355Z"
    }
   },
   "outputs": [],
   "source": [
    "moment_calculator.plot_M20_contributors(x0, y0-2)\n",
    "#plt.savefig('output_images/m20_contributors.pdf', bbox_inches = 'tight')"
   ]
  },
  {
   "cell_type": "markdown",
   "id": "a5dbb214",
   "metadata": {},
   "source": [
    "# Shannon Entropy\n"
   ]
  },
  {
   "cell_type": "code",
   "execution_count": null,
   "id": "aeb389c5",
   "metadata": {
    "ExecuteTime": {
     "end_time": "2025-01-29T17:08:28.742705Z",
     "start_time": "2025-01-29T17:08:28.740493Z"
    }
   },
   "outputs": [],
   "source": [
    "from mex.Metrics_module import Shannon_entropy\n",
    "\n",
    "# Initialize the Shannon_entropy class\n",
    "entropy_calculator = Shannon_entropy(clean_mini, segmentation=segmented_mini)\n"
   ]
  },
  {
   "cell_type": "markdown",
   "id": "82d7a810",
   "metadata": {},
   "source": [
    "## Calculate entropy"
   ]
  },
  {
   "cell_type": "code",
   "execution_count": null,
   "id": "364d85d7",
   "metadata": {
    "ExecuteTime": {
     "end_time": "2025-01-29T17:08:29.927506Z",
     "start_time": "2025-01-29T17:08:29.925391Z"
    }
   },
   "outputs": [],
   "source": [
    "entropy = entropy_calculator.get_entropy(normalize=True, nbins=100)\n",
    "print(entropy)"
   ]
  },
  {
   "cell_type": "markdown",
   "id": "7e3a3418",
   "metadata": {},
   "source": [
    "## Entropy/histogram visualization"
   ]
  },
  {
   "cell_type": "code",
   "execution_count": null,
   "id": "b9aa9c0a",
   "metadata": {
    "ExecuteTime": {
     "end_time": "2025-01-29T17:08:39.286181Z",
     "start_time": "2025-01-29T17:08:38.836009Z"
    }
   },
   "outputs": [],
   "source": [
    "entropy_calculator.plot_entropy_frame(bins=\"auto\")\n",
    "#plt.savefig('output_images/entropy_hist.pdf', bbox_inches = 'tight')"
   ]
  },
  {
   "cell_type": "markdown",
   "id": "9eda5990",
   "metadata": {},
   "source": [
    "# Gini index"
   ]
  },
  {
   "cell_type": "code",
   "execution_count": null,
   "id": "29bf316f",
   "metadata": {
    "ExecuteTime": {
     "end_time": "2025-01-29T17:08:58.895510Z",
     "start_time": "2025-01-29T17:08:58.893289Z"
    }
   },
   "outputs": [],
   "source": [
    "from mex.Metrics_module import Gini_index\n",
    "\n",
    "# Initialize the Gini_index class\n",
    "gini_calculator = Gini_index(clean_mini, segmentation=segmented_mini)\n"
   ]
  },
  {
   "cell_type": "markdown",
   "id": "caa33342",
   "metadata": {},
   "source": [
    "## Calculate Gini index"
   ]
  },
  {
   "cell_type": "code",
   "execution_count": null,
   "id": "62a5b67a",
   "metadata": {
    "ExecuteTime": {
     "end_time": "2025-01-29T17:08:59.996966Z",
     "start_time": "2025-01-29T17:08:59.992762Z"
    }
   },
   "outputs": [],
   "source": [
    "gini = gini_calculator.get_gini()\n",
    "print(gini)"
   ]
  },
  {
   "cell_type": "markdown",
   "id": "7df220da",
   "metadata": {},
   "source": [
    "## Get Lorentz curve"
   ]
  },
  {
   "cell_type": "code",
   "execution_count": null,
   "id": "26cbc32b",
   "metadata": {
    "ExecuteTime": {
     "end_time": "2025-01-29T17:09:02.060666Z",
     "start_time": "2025-01-29T17:09:02.054998Z"
    }
   },
   "outputs": [],
   "source": [
    "cumulative_pixels, cumulative_light = gini_calculator.compute_lorentz_curve()\n"
   ]
  },
  {
   "cell_type": "markdown",
   "id": "b56700fe",
   "metadata": {},
   "source": [
    "## Gini index visualization"
   ]
  },
  {
   "cell_type": "code",
   "execution_count": null,
   "id": "93392038",
   "metadata": {
    "ExecuteTime": {
     "end_time": "2025-01-29T17:09:17.338265Z",
     "start_time": "2025-01-29T17:09:17.103500Z"
    }
   },
   "outputs": [],
   "source": [
    "gini_calculator.plot_gini_rep(cumulative_pixels, cumulative_light, gini)\n",
    "#plt.savefig(\"output_images/gini_area.pdf\", bbox_inches = 'tight')"
   ]
  },
  {
   "cell_type": "markdown",
   "id": "7750453b",
   "metadata": {},
   "source": [
    "# Gradient Pattern Analysis"
   ]
  },
  {
   "cell_type": "code",
   "execution_count": null,
   "id": "e588e6cd",
   "metadata": {
    "ExecuteTime": {
     "end_time": "2025-01-29T17:10:06.658705Z",
     "start_time": "2025-01-29T17:10:06.656490Z"
    }
   },
   "outputs": [],
   "source": [
    "from mex.Metrics_module import GPA\n",
    "\n",
    "# Initialize the GPA class\n",
    "gpa = GPA(image=clean_mini, segmentation=segmented_mini)\n"
   ]
  },
  {
   "cell_type": "markdown",
   "id": "7ad71bed",
   "metadata": {},
   "source": [
    "## Asymmetry of the gradient field"
   ]
  },
  {
   "cell_type": "code",
   "execution_count": null,
   "id": "cf4fd027",
   "metadata": {
    "ExecuteTime": {
     "end_time": "2025-01-29T17:10:09.582111Z",
     "start_time": "2025-01-29T17:10:09.568873Z"
    }
   },
   "outputs": [],
   "source": [
    "# Calculate G2 parameter\n",
    "g2 = gpa.get_g2(mtol=0.13, ptol=140)\n",
    "print(g2)"
   ]
  },
  {
   "cell_type": "markdown",
   "id": "7c903a66",
   "metadata": {},
   "source": [
    "## Plot gradient field"
   ]
  },
  {
   "cell_type": "code",
   "execution_count": null,
   "id": "ca98e19c",
   "metadata": {
    "ExecuteTime": {
     "end_time": "2025-01-29T17:10:37.607289Z",
     "start_time": "2025-01-29T17:10:37.008218Z"
    }
   },
   "outputs": [],
   "source": [
    "gpa.plot_gradient_field(mtol=0.1, ptol=143)\n",
    "#plt.savefig(\"output_images/gradient_field.pdf\", bbox_inches = 'tight')"
   ]
  },
  {
   "cell_type": "markdown",
   "id": "34fb09f6",
   "metadata": {},
   "source": [
    "## Plot histograms of vector properties"
   ]
  },
  {
   "cell_type": "code",
   "execution_count": null,
   "id": "3000c79a",
   "metadata": {
    "ExecuteTime": {
     "end_time": "2025-01-29T17:10:54.949296Z",
     "start_time": "2025-01-29T17:10:54.593133Z"
    }
   },
   "outputs": [],
   "source": [
    "gpa.plot_hists()\n",
    "#plt.savefig('output_images/hist_vector.pdf', bbox_inches = 'tight')"
   ]
  },
  {
   "cell_type": "code",
   "execution_count": null,
   "id": "544854f2-fcdd-4549-bfb5-ce4bf0eb06c2",
   "metadata": {},
   "outputs": [],
   "source": []
  }
 ],
 "metadata": {
  "kernelspec": {
   "display_name": "Python 3 (ipykernel)",
   "language": "python",
   "name": "python3"
  },
  "language_info": {
   "codemirror_mode": {
    "name": "ipython",
    "version": 3
   },
   "file_extension": ".py",
   "mimetype": "text/x-python",
   "name": "python",
   "nbconvert_exporter": "python",
   "pygments_lexer": "ipython3",
   "version": "3.13.0"
  },
  "toc": {
   "base_numbering": 1,
   "nav_menu": {},
   "number_sections": true,
   "sideBar": true,
   "skip_h1_title": false,
   "title_cell": "Table of Contents",
   "title_sidebar": "Contents",
   "toc_cell": false,
   "toc_position": {},
   "toc_section_display": true,
   "toc_window_display": false
  },
  "varInspector": {
   "cols": {
    "lenName": 16,
    "lenType": 16,
    "lenVar": 40
   },
   "kernels_config": {
    "python": {
     "delete_cmd_postfix": "",
     "delete_cmd_prefix": "del ",
     "library": "var_list.py",
     "varRefreshCmd": "print(var_dic_list())"
    },
    "r": {
     "delete_cmd_postfix": ") ",
     "delete_cmd_prefix": "rm(",
     "library": "var_list.r",
     "varRefreshCmd": "cat(var_dic_list()) "
    }
   },
   "types_to_exclude": [
    "module",
    "function",
    "builtin_function_or_method",
    "instance",
    "_Feature"
   ],
   "window_display": false
  }
 },
 "nbformat": 4,
 "nbformat_minor": 5
}
