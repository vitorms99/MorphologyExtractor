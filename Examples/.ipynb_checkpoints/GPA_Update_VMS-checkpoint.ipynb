{
 "cells": [
  {
   "cell_type": "code",
   "execution_count": 1,
   "id": "9369a613",
   "metadata": {
    "ExecuteTime": {
     "end_time": "2025-01-29T17:03:45.888080Z",
     "start_time": "2025-01-29T17:03:45.565681Z"
    }
   },
   "outputs": [],
   "source": [
    "import pandas as pd\n",
    "import numpy as np\n",
    "import matplotlib.pyplot as plt\n",
    "from astropy.io import fits\n",
    "import os\n",
    "import subprocess"
   ]
  },
  {
   "cell_type": "code",
   "execution_count": 2,
   "id": "cf697e9f",
   "metadata": {
    "ExecuteTime": {
     "end_time": "2025-01-29T17:03:47.205213Z",
     "start_time": "2025-01-29T17:03:46.679927Z"
    }
   },
   "outputs": [],
   "source": [
    "from galmex.Utils_module import open_fits_image\n",
    "galaxy_image, header = open_fits_image('example_galaxy.fits')\n",
    "        "
   ]
  },
  {
   "cell_type": "code",
   "execution_count": 4,
   "id": "f19bcfad",
   "metadata": {
    "ExecuteTime": {
     "end_time": "2025-01-29T17:03:49.033920Z",
     "start_time": "2025-01-29T17:03:49.032024Z"
    }
   },
   "outputs": [],
   "source": [
    "from galmex.Background_module import BackgroundEstimator\n",
    "galaxy_name = '588848901526257813'\n",
    "bkg_estimator = BackgroundEstimator(galaxy_name, galaxy_image)\n",
    "        "
   ]
  },
  {
   "cell_type": "code",
   "execution_count": 6,
   "id": "b807812f",
   "metadata": {
    "ExecuteTime": {
     "end_time": "2025-01-29T17:03:50.628082Z",
     "start_time": "2025-01-29T17:03:50.614453Z"
    }
   },
   "outputs": [],
   "source": [
    "bkg_median_frame, bkg_std_frame, bkg_image_frame, galaxy_nobkg_frame = bkg_estimator.frame_background(image_fraction = 0.1, sigma_clipping = True, clipping_threshold = 3)"
   ]
  },
  {
   "cell_type": "code",
   "execution_count": 10,
   "id": "0929e091",
   "metadata": {
    "ExecuteTime": {
     "end_time": "2025-01-29T17:04:06.014016Z",
     "start_time": "2025-01-29T17:04:06.011825Z"
    }
   },
   "outputs": [],
   "source": [
    "from galmex.Detection_module import ObjectDetector\n",
    "        "
   ]
  },
  {
   "cell_type": "code",
   "execution_count": 12,
   "id": "8d3c9f94",
   "metadata": {
    "ExecuteTime": {
     "end_time": "2025-01-29T17:04:08.819375Z",
     "start_time": "2025-01-29T17:04:08.814233Z"
    }
   },
   "outputs": [],
   "source": [
    "detector = ObjectDetector(galaxy_name, galaxy_nobkg_sep) # here I'm using sep bkg subtracted image for consistency\n",
    "sep_catalog, sep_segmentation = detector.sep_detector(thresh = 1, minarea = 10, deblend_nthresh = 32, \n",
    "                                                      deblend_cont = 0.005, filter_type = 'matched',\n",
    "                                                      bkg_std = bkg_std_frame, sub_bkg = False)"
   ]
  },
  {
   "cell_type": "code",
   "execution_count": 14,
   "id": "65f25761",
   "metadata": {
    "ExecuteTime": {
     "end_time": "2025-01-29T17:04:11.725874Z",
     "start_time": "2025-01-29T17:04:11.723861Z"
    }
   },
   "outputs": [],
   "source": [
    "from galmex.Cleaning_module import GalaxyCleaner\n",
    "cleaner = GalaxyCleaner(galaxy_nobkg_frame, sep_segmentation)"
   ]
  },
  {
   "cell_type": "code",
   "execution_count": 17,
   "id": "5e1e5552",
   "metadata": {
    "ExecuteTime": {
     "end_time": "2025-01-29T17:04:18.259914Z",
     "start_time": "2025-01-29T17:04:14.582528Z"
    }
   },
   "outputs": [],
   "source": [
    "x, y = len(sep_segmentation)//2, len(sep_segmentation[0])//2\n",
    "main_id = sep_segmentation[y,x]\n",
    "galaxy_clean_iso = cleaner.isophotes_filler(sep_catalog['theta'][main_id - 1])"
   ]
  },
  {
   "cell_type": "code",
   "execution_count": 19,
   "id": "5511578f",
   "metadata": {
    "ExecuteTime": {
     "end_time": "2025-01-29T17:04:27.294433Z",
     "start_time": "2025-01-29T17:04:27.291997Z"
    }
   },
   "outputs": [],
   "source": [
    "from galmex.Petrosian_module import PetrosianCalculator\n",
    "\n",
    "x, y, a, b, theta, npix = sep_catalog.iloc[main_id - 1][['x', 'y', 'a', 'b', 'theta', 'npix']]\n",
    "rp_calc = PetrosianCalculator(galaxy_clean_iso, x, y, a, b, theta)"
   ]
  },
  {
   "cell_type": "code",
   "execution_count": 20,
   "id": "59092bad",
   "metadata": {
    "ExecuteTime": {
     "end_time": "2025-01-29T17:04:28.765015Z",
     "start_time": "2025-01-29T17:04:28.503661Z"
    }
   },
   "outputs": [],
   "source": [
    "eta, growth_curve, radius, rp, eta_flag = rp_calc.calculate_petrosian_radius(rp_thresh = 0.2, \n",
    "                                                                 aperture = \"elliptical\", \n",
    "                                                                 optimize_rp = True,\n",
    "                                                                 interpolate_order = 3, \n",
    "                                                                 Naround = 3, rp_step = 0.05)"
   ]
  },
  {
   "cell_type": "code",
   "execution_count": 26,
   "id": "cea078b1",
   "metadata": {
    "ExecuteTime": {
     "end_time": "2025-01-29T17:04:52.646409Z",
     "start_time": "2025-01-29T17:04:52.643768Z"
    }
   },
   "outputs": [],
   "source": [
    "from galmex.Segmentation_module import SegmentImage\n",
    "segm = SegmentImage(galaxy_clean_iso, sep_segmentation, rp, x, y, a, b, theta)\n"
   ]
  },
  {
   "cell_type": "code",
   "execution_count": 29,
   "id": "2f2f9789",
   "metadata": {
    "ExecuteTime": {
     "end_time": "2025-01-29T17:04:56.922015Z",
     "start_time": "2025-01-29T17:04:56.913864Z"
    }
   },
   "outputs": [],
   "source": [
    "segmentation_intensity, mup = segm.limit_to_intensity(k_segmentation = 1)"
   ]
  },
  {
   "cell_type": "code",
   "execution_count": null,
   "id": "c680fe5c",
   "metadata": {},
   "outputs": [],
   "source": []
  }
 ],
 "metadata": {
  "kernelspec": {
   "display_name": "Python 3 (ipykernel)",
   "language": "python",
   "name": "python3"
  },
  "language_info": {
   "codemirror_mode": {
    "name": "ipython",
    "version": 3
   },
   "file_extension": ".py",
   "mimetype": "text/x-python",
   "name": "python",
   "nbconvert_exporter": "python",
   "pygments_lexer": "ipython3",
   "version": "3.13.0"
  },
  "toc": {
   "base_numbering": 1,
   "nav_menu": {},
   "number_sections": true,
   "sideBar": true,
   "skip_h1_title": false,
   "title_cell": "Table of Contents",
   "title_sidebar": "Contents",
   "toc_cell": false,
   "toc_position": {},
   "toc_section_display": true,
   "toc_window_display": false
  },
  "varInspector": {
   "cols": {
    "lenName": 16,
    "lenType": 16,
    "lenVar": 40
   },
   "kernels_config": {
    "python": {
     "delete_cmd_postfix": "",
     "delete_cmd_prefix": "del ",
     "library": "var_list.py",
     "varRefreshCmd": "print(var_dic_list())"
    },
    "r": {
     "delete_cmd_postfix": ") ",
     "delete_cmd_prefix": "rm(",
     "library": "var_list.r",
     "varRefreshCmd": "cat(var_dic_list()) "
    }
   },
   "types_to_exclude": [
    "module",
    "function",
    "builtin_function_or_method",
    "instance",
    "_Feature"
   ],
   "window_display": false
  }
 },
 "nbformat": 4,
 "nbformat_minor": 5
}
